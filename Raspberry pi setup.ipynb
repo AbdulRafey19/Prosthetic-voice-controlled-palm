{
 "cells": [
  {
   "cell_type": "markdown",
   "metadata": {},
   "source": [
    "Following codecells files are needed to be executed individually on terminal of Raspberry pi 4/5"
   ]
  },
  {
   "cell_type": "code",
   "execution_count": null,
   "metadata": {},
   "outputs": [],
   "source": [
    "#!/bin/bash\n",
    "\n",
    "echo \"Starting Raspbian Setup Script...\"\n",
    "\n",
    "# Step 1: Update and Upgrade\n",
    "echo \"Updating and upgrading the system...\"\n",
    "sudo apt update && sudo apt upgrade -y\n",
    "\n",
    "# Step 2: Install Essential Tools\n",
    "echo \"Installing essential tools...\"\n",
    "sudo apt install -y git python3 python3-pip vim build-essential curl wget unzip\n",
    "\n"
   ]
  },
  {
   "cell_type": "code",
   "execution_count": null,
   "metadata": {},
   "outputs": [],
   "source": [
    "# Step 3: Enable SSH and Interfaces\n",
    "echo \"Enabling SSH and other interfaces...\"\n",
    "sudo raspi-config nonint do_ssh 0  # Enable SSH\n",
    "sudo raspi-config nonint do_i2c 0 # Enable I2C\n",
    "sudo raspi-config nonint do_spi 0 # Enable SPI\n",
    "sudo raspi-config nonint do_camera 0 # Enable Camera Interface\n",
    "\n",
    "\n"
   ]
  },
  {
   "cell_type": "code",
   "execution_count": null,
   "metadata": {},
   "outputs": [],
   "source": [
    "# Step 4: Install Development Libraries\n",
    "echo \"Installing development libraries...\"\n",
    "sudo apt install -y python3-dev python3-venv libssl-dev libffi-dev libjpeg-dev zlib1g-dev\n",
    "\n",
    "# Step 5: Install GPIO Library for Python\n",
    "echo \"Installing GPIO libraries...\"\n",
    "sudo pip3 install RPi.GPIO adafruit-blinka\n",
    "\n",
    "# Step 6: Clean Up\n",
    "echo \"Cleaning up...\"\n",
    "sudo apt autoremove -y && sudo apt clean\n"
   ]
  },
  {
   "cell_type": "markdown",
   "metadata": {},
   "source": []
  }
 ],
 "metadata": {
  "language_info": {
   "name": "python"
  }
 },
 "nbformat": 4,
 "nbformat_minor": 2
}
